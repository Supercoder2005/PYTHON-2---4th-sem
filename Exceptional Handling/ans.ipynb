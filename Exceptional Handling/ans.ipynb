{
 "cells": [
  {
   "cell_type": "markdown",
   "id": "4a2919ae",
   "metadata": {},
   "source": [
    "# Zero division error"
   ]
  },
  {
   "cell_type": "code",
   "execution_count": 3,
   "id": "b8c668a3",
   "metadata": {},
   "outputs": [
    {
     "name": "stdout",
     "output_type": "stream",
     "text": [
      "Divison by zero is not allowed\n",
      "Zero division error occured for dividing 10 by 0\n"
     ]
    }
   ],
   "source": [
    "a = 10 \n",
    "try:\n",
    "    print(a/0)\n",
    "except ZeroDivisionError:\n",
    "    print(\"Divison by zero is not allowed\")\n",
    "\n",
    "print(f\"Zero division error occured for dividing {a} by 0\")"
   ]
  },
  {
   "cell_type": "markdown",
   "id": "84d38486",
   "metadata": {},
   "source": [
    "# Index Error "
   ]
  },
  {
   "cell_type": "code",
   "execution_count": 5,
   "id": "2f4cd25f",
   "metadata": {},
   "outputs": [
    {
     "name": "stdout",
     "output_type": "stream",
     "text": [
      "Index out of range error\n",
      "Index out of range error occured for accessing index 7 in list l\n"
     ]
    }
   ],
   "source": [
    "l = [1,2,3,4]\n",
    "try:\n",
    "    print(l[7])\n",
    "except IndexError:\n",
    "    print(\"Index out of range error\")\n",
    "print(\"Index out of range error occured for accessing index 7 in list l\")"
   ]
  },
  {
   "cell_type": "markdown",
   "id": "d7ea40c2",
   "metadata": {},
   "source": [
    "### Write a python code to run a certain block of code if the code block inside try runs without any errors. "
   ]
  },
  {
   "cell_type": "code",
   "execution_count": 7,
   "id": "cf521e97",
   "metadata": {},
   "outputs": [
    {
     "name": "stdout",
     "output_type": "stream",
     "text": [
      "1.0\n",
      "No error has occured\n"
     ]
    }
   ],
   "source": [
    "a = 10 \n",
    "try:\n",
    "    print(a/10)\n",
    "except ZeroDivisionError:\n",
    "    print(\"Zero division error has occured\")\n",
    "else:\n",
    "    print(\"No error has occured\")"
   ]
  },
  {
   "cell_type": "markdown",
   "id": "6050ba40",
   "metadata": {},
   "source": [
    "### Write a python code to run a certain block of code no matter whether there is an exception or not."
   ]
  },
  {
   "cell_type": "code",
   "execution_count": 8,
   "id": "152eeae4",
   "metadata": {},
   "outputs": [
    {
     "name": "stdout",
     "output_type": "stream",
     "text": [
      "3\n",
      "No error has occured\n",
      "Error hok ki na hok ami print hoboi\n"
     ]
    }
   ],
   "source": [
    "l = [1,2,3,4,5]\n",
    "try:\n",
    "    print(l[2])\n",
    "except IndexError:\n",
    "    print(\"Index out of range error\")\n",
    "else:\n",
    "    print(\"No error has occured\")\n",
    "finally:\n",
    "    print(\"Error hok ki na hok ami print hoboi\")"
   ]
  },
  {
   "cell_type": "code",
   "execution_count": 9,
   "id": "15ed0947",
   "metadata": {},
   "outputs": [
    {
     "name": "stdout",
     "output_type": "stream",
     "text": [
      "Division by zero is not allowed\n",
      "Hello happy rainy day!\n"
     ]
    }
   ],
   "source": [
    "a = 10\n",
    "try:\n",
    "    print(a/0)\n",
    "except ZeroDivisionError:\n",
    "    print(\"Division by zero is not allowed\")\n",
    "else:\n",
    "    print(\"No error has occured\")\n",
    "finally:\n",
    "    print(\"Hello happy rainy day!\")"
   ]
  },
  {
   "cell_type": "markdown",
   "id": "a5b1cb42",
   "metadata": {},
   "source": [
    "##### Write a python code to raise Exceptions (Python's built-in Exception objects) by yourself to indicate that something went wrong"
   ]
  },
  {
   "cell_type": "code",
   "execution_count": 12,
   "id": "988499f1",
   "metadata": {},
   "outputs": [
    {
     "name": "stdout",
     "output_type": "stream",
     "text": [
      "2.0\n"
     ]
    }
   ],
   "source": [
    "a = 10 \n",
    "b = 5\n",
    "if(b==0):\n",
    "    raise ZeroDivisionError(\"Division by zero is not allowed\")\n",
    "else:\n",
    "    print(a/b)\n"
   ]
  },
  {
   "cell_type": "code",
   "execution_count": 13,
   "id": "5f73011e",
   "metadata": {},
   "outputs": [
    {
     "name": "stdout",
     "output_type": "stream",
     "text": [
      "3.1622776601683795\n"
     ]
    }
   ],
   "source": [
    "a = 10 \n",
    "if(a<0):\n",
    "    raise ValueError(\"Negative value is not allowed\")\n",
    "else:\n",
    "    print(a**0.5)"
   ]
  },
  {
   "cell_type": "code",
   "execution_count": 16,
   "id": "66d27423",
   "metadata": {},
   "outputs": [
    {
     "ename": "Exception",
     "evalue": "Index out of range",
     "output_type": "error",
     "traceback": [
      "\u001b[1;31m---------------------------------------------------------------------------\u001b[0m",
      "\u001b[1;31mException\u001b[0m                                 Traceback (most recent call last)",
      "Cell \u001b[1;32mIn[16], line 5\u001b[0m\n\u001b[0;32m      3\u001b[0m a \u001b[38;5;241m=\u001b[39m \u001b[38;5;241m10\u001b[39m\n\u001b[0;32m      4\u001b[0m \u001b[38;5;28;01mif\u001b[39;00m(a\u001b[38;5;241m>\u001b[39mlength):\n\u001b[1;32m----> 5\u001b[0m     \u001b[38;5;28;01mraise\u001b[39;00m \u001b[38;5;167;01mException\u001b[39;00m(\u001b[38;5;124m\"\u001b[39m\u001b[38;5;124mIndex out of range\u001b[39m\u001b[38;5;124m\"\u001b[39m)\n\u001b[0;32m      6\u001b[0m \u001b[38;5;28;01melse\u001b[39;00m:\n\u001b[0;32m      7\u001b[0m     \u001b[38;5;28mprint\u001b[39m(l[a])\n",
      "\u001b[1;31mException\u001b[0m: Index out of range"
     ]
    }
   ],
   "source": [
    "l = [1,2,3,4]\n",
    "length = len(l)\n",
    "a = 10\n",
    "if(a>length):\n",
    "    raise Exception(\"Index out of range\")\n",
    "else:\n",
    "    print(l[a])\n"
   ]
  },
  {
   "cell_type": "markdown",
   "id": "f47c49d4",
   "metadata": {},
   "source": [
    "#### Write  a  python  code  to  define  custom  exceptions  by  creating  a  new  class  that  is  derived  from  the  built-in exception class"
   ]
  },
  {
   "cell_type": "code",
   "execution_count": 18,
   "id": "2e1f131a",
   "metadata": {},
   "outputs": [],
   "source": [
    "class CustomError(Exception):\n",
    "    pass "
   ]
  },
  {
   "cell_type": "code",
   "execution_count": 19,
   "id": "2fd420b2",
   "metadata": {},
   "outputs": [
    {
     "ename": "CustomError",
     "evalue": "Addition can't be performed between a integer and a string",
     "output_type": "error",
     "traceback": [
      "\u001b[1;31m---------------------------------------------------------------------------\u001b[0m",
      "\u001b[1;31mCustomError\u001b[0m                               Traceback (most recent call last)",
      "Cell \u001b[1;32mIn[19], line 5\u001b[0m\n\u001b[0;32m      2\u001b[0m b \u001b[38;5;241m=\u001b[39m \u001b[38;5;124m'\u001b[39m\u001b[38;5;124mabc\u001b[39m\u001b[38;5;124m'\u001b[39m\n\u001b[0;32m      4\u001b[0m \u001b[38;5;28;01mif\u001b[39;00m(\u001b[38;5;28mtype\u001b[39m(b) \u001b[38;5;129;01mis\u001b[39;00m \u001b[38;5;129;01mnot\u001b[39;00m \u001b[38;5;28mint\u001b[39m):\n\u001b[1;32m----> 5\u001b[0m     \u001b[38;5;28;01mraise\u001b[39;00m CustomError(\u001b[38;5;124m\"\u001b[39m\u001b[38;5;124mAddition can\u001b[39m\u001b[38;5;124m'\u001b[39m\u001b[38;5;124mt be performed between a integer and a string\u001b[39m\u001b[38;5;124m\"\u001b[39m)\n\u001b[0;32m      6\u001b[0m \u001b[38;5;28;01melse\u001b[39;00m:\n\u001b[0;32m      7\u001b[0m     \u001b[38;5;28mprint\u001b[39m(a\u001b[38;5;241m+\u001b[39mb)\n",
      "\u001b[1;31mCustomError\u001b[0m: Addition can't be performed between a integer and a string"
     ]
    }
   ],
   "source": [
    "a = 10 \n",
    "b = 'abc'\n",
    "\n",
    "if(type(b) is not int):\n",
    "    raise CustomError(\"Addition can't be performed between a integer and a string\")\n",
    "else:\n",
    "    print(a+b)"
   ]
  },
  {
   "cell_type": "markdown",
   "id": "5f25a373",
   "metadata": {},
   "source": [
    "#### You're going to write an interactive calculator! User input is assumed to be a formula that consist of a number, an operator (at least + and -), and another number, separated by white space (e.g. 1 + 1). Split user input using str.split(), and check whether the resulting list is valid:  ✓ If the input does not consist of 3 elements, raise a FormulaError, which is a custom Exception.  ✓ Try  to  convert  the  first  and  third  input  to  a float (like  so: float_value  =  float(str_value)).  Catch any ValueError that occurs, and instead raise a FormulaError  ✓ If the second input is not '+' or '-', again raise a FormulaError  If the input is valid, perform the calculation and print out the result. The user is then prompted to provide new input, and so on, until the user enters quit.  An interaction could look like this:  >>> 1 + 1  2.0  >>> 3.2 - 1.5  1.7000000000000002  >>> quit \n",
    " "
   ]
  },
  {
   "cell_type": "code",
   "execution_count": null,
   "id": "7e9c1dd0",
   "metadata": {},
   "outputs": [],
   "source": []
  }
 ],
 "metadata": {
  "kernelspec": {
   "display_name": "Python 3",
   "language": "python",
   "name": "python3"
  },
  "language_info": {
   "codemirror_mode": {
    "name": "ipython",
    "version": 3
   },
   "file_extension": ".py",
   "mimetype": "text/x-python",
   "name": "python",
   "nbconvert_exporter": "python",
   "pygments_lexer": "ipython3",
   "version": "3.12.5"
  }
 },
 "nbformat": 4,
 "nbformat_minor": 5
}
