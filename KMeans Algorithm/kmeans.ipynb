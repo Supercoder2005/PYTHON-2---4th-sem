{
 "cells": [
  {
   "cell_type": "markdown",
   "id": "b284d5dc",
   "metadata": {},
   "source": [
    "# Kmeans Algorithm"
   ]
  },
  {
   "cell_type": "code",
   "execution_count": 5,
   "id": "25e607c8",
   "metadata": {},
   "outputs": [
    {
     "name": "stdout",
     "output_type": "stream",
     "text": [
      "Collecting scikit-learn\n",
      "  Downloading scikit_learn-1.6.1-cp312-cp312-win_amd64.whl.metadata (15 kB)\n",
      "Requirement already satisfied: numpy>=1.19.5 in c:\\new folder\\lib\\site-packages (from scikit-learn) (2.1.1)\n",
      "Collecting scipy>=1.6.0 (from scikit-learn)\n",
      "  Downloading scipy-1.15.2-cp312-cp312-win_amd64.whl.metadata (60 kB)\n",
      "Collecting joblib>=1.2.0 (from scikit-learn)\n",
      "  Using cached joblib-1.4.2-py3-none-any.whl.metadata (5.4 kB)\n",
      "Collecting threadpoolctl>=3.1.0 (from scikit-learn)\n",
      "  Downloading threadpoolctl-3.6.0-py3-none-any.whl.metadata (13 kB)\n",
      "Downloading scikit_learn-1.6.1-cp312-cp312-win_amd64.whl (11.1 MB)\n",
      "   ---------------------------------------- 0.0/11.1 MB ? eta -:--:--\n",
      "   - -------------------------------------- 0.5/11.1 MB 3.4 MB/s eta 0:00:04\n",
      "   ------ --------------------------------- 1.8/11.1 MB 5.0 MB/s eta 0:00:02\n",
      "   ----------- ---------------------------- 3.1/11.1 MB 5.4 MB/s eta 0:00:02\n",
      "   --------------- ------------------------ 4.2/11.1 MB 5.4 MB/s eta 0:00:02\n",
      "   ------------------- -------------------- 5.5/11.1 MB 5.6 MB/s eta 0:00:02\n",
      "   ------------------------ --------------- 6.8/11.1 MB 5.7 MB/s eta 0:00:01\n",
      "   ----------------------------- ---------- 8.1/11.1 MB 5.9 MB/s eta 0:00:01\n",
      "   ---------------------------------- ----- 9.7/11.1 MB 5.9 MB/s eta 0:00:01\n",
      "   ---------------------------------------  11.0/11.1 MB 5.9 MB/s eta 0:00:01\n",
      "   ---------------------------------------- 11.1/11.1 MB 5.5 MB/s eta 0:00:00\n",
      "Using cached joblib-1.4.2-py3-none-any.whl (301 kB)\n",
      "Downloading scipy-1.15.2-cp312-cp312-win_amd64.whl (40.9 MB)\n",
      "   ---------------------------------------- 0.0/40.9 MB ? eta -:--:--\n",
      "   - -------------------------------------- 1.3/40.9 MB 6.1 MB/s eta 0:00:07\n",
      "   -- ------------------------------------- 2.4/40.9 MB 6.1 MB/s eta 0:00:07\n",
      "   --- ------------------------------------ 3.9/40.9 MB 6.3 MB/s eta 0:00:06\n",
      "   ----- ---------------------------------- 5.2/40.9 MB 6.4 MB/s eta 0:00:06\n",
      "   ------ --------------------------------- 6.6/40.9 MB 6.5 MB/s eta 0:00:06\n",
      "   ------- -------------------------------- 7.9/40.9 MB 6.4 MB/s eta 0:00:06\n",
      "   --------- ------------------------------ 9.4/40.9 MB 6.5 MB/s eta 0:00:05\n",
      "   ---------- ----------------------------- 10.7/40.9 MB 6.5 MB/s eta 0:00:05\n",
      "   ----------- ---------------------------- 12.1/40.9 MB 6.4 MB/s eta 0:00:05\n",
      "   ------------ --------------------------- 13.1/40.9 MB 6.4 MB/s eta 0:00:05\n",
      "   -------------- ------------------------- 14.4/40.9 MB 6.3 MB/s eta 0:00:05\n",
      "   --------------- ------------------------ 15.7/40.9 MB 6.2 MB/s eta 0:00:05\n",
      "   ---------------- ----------------------- 17.0/40.9 MB 6.3 MB/s eta 0:00:04\n",
      "   ----------------- ---------------------- 18.1/40.9 MB 6.2 MB/s eta 0:00:04\n",
      "   ------------------- -------------------- 19.7/40.9 MB 6.2 MB/s eta 0:00:04\n",
      "   -------------------- ------------------- 21.0/40.9 MB 6.3 MB/s eta 0:00:04\n",
      "   ---------------------- ----------------- 22.5/40.9 MB 6.3 MB/s eta 0:00:03\n",
      "   ----------------------- ---------------- 23.9/40.9 MB 6.3 MB/s eta 0:00:03\n",
      "   ------------------------ --------------- 24.9/40.9 MB 6.3 MB/s eta 0:00:03\n",
      "   ------------------------- -------------- 26.2/40.9 MB 6.3 MB/s eta 0:00:03\n",
      "   -------------------------- ------------- 27.5/40.9 MB 6.3 MB/s eta 0:00:03\n",
      "   ---------------------------- ----------- 29.1/40.9 MB 6.3 MB/s eta 0:00:02\n",
      "   ----------------------------- ---------- 30.1/40.9 MB 6.2 MB/s eta 0:00:02\n",
      "   ------------------------------ --------- 31.7/40.9 MB 6.3 MB/s eta 0:00:02\n",
      "   -------------------------------- ------- 33.3/40.9 MB 6.3 MB/s eta 0:00:02\n",
      "   --------------------------------- ------ 34.3/40.9 MB 6.3 MB/s eta 0:00:02\n",
      "   ----------------------------------- ---- 35.9/40.9 MB 6.3 MB/s eta 0:00:01\n",
      "   ------------------------------------ --- 37.2/40.9 MB 6.3 MB/s eta 0:00:01\n",
      "   ------------------------------------- -- 38.5/40.9 MB 6.3 MB/s eta 0:00:01\n",
      "   -------------------------------------- - 39.8/40.9 MB 6.3 MB/s eta 0:00:01\n",
      "   ---------------------------------------  40.9/40.9 MB 6.3 MB/s eta 0:00:01\n",
      "   ---------------------------------------  40.9/40.9 MB 6.3 MB/s eta 0:00:01\n",
      "   ---------------------------------------  40.9/40.9 MB 6.3 MB/s eta 0:00:01\n",
      "   ---------------------------------------- 40.9/40.9 MB 5.8 MB/s eta 0:00:00\n",
      "Downloading threadpoolctl-3.6.0-py3-none-any.whl (18 kB)\n",
      "Installing collected packages: threadpoolctl, scipy, joblib, scikit-learn\n",
      "Successfully installed joblib-1.4.2 scikit-learn-1.6.1 scipy-1.15.2 threadpoolctl-3.6.0\n"
     ]
    },
    {
     "name": "stderr",
     "output_type": "stream",
     "text": [
      "\n",
      "[notice] A new release of pip is available: 24.3.1 -> 25.1\n",
      "[notice] To update, run: python.exe -m pip install --upgrade pip\n"
     ]
    }
   ],
   "source": [
    "! pip install scikit-learn"
   ]
  },
  {
   "cell_type": "code",
   "execution_count": 1,
   "id": "a112e154",
   "metadata": {},
   "outputs": [],
   "source": [
    "import pandas as pd \n",
    "import matplotlib.pyplot as plt\n"
   ]
  },
  {
   "cell_type": "code",
   "execution_count": 7,
   "id": "038f8e8a",
   "metadata": {},
   "outputs": [],
   "source": [
    "from sklearn.cluster import KMeans"
   ]
  },
  {
   "cell_type": "code",
   "execution_count": 8,
   "id": "d138c7f7",
   "metadata": {},
   "outputs": [],
   "source": [
    "data = pd.read_csv(\"heightWeight.csv\")"
   ]
  },
  {
   "cell_type": "code",
   "execution_count": 10,
   "id": "fc18756a",
   "metadata": {},
   "outputs": [
    {
     "name": "stdout",
     "output_type": "stream",
     "text": [
      "   Height  Weight \n",
      "0     180       80\n",
      "1     172       73\n",
      "2     178       69\n",
      "3     189       82\n",
      "4     164       70\n",
      "5     186       71\n",
      "6     180       69\n",
      "7     170       76\n",
      "8     166       71\n",
      "9     180       72\n"
     ]
    }
   ],
   "source": [
    "print(data)"
   ]
  },
  {
   "cell_type": "code",
   "execution_count": 13,
   "id": "6c194d11",
   "metadata": {},
   "outputs": [],
   "source": [
    "kMeans_model = KMeans(n_clusters = 3,random_state = 1).fit(data)\n"
   ]
  },
  {
   "cell_type": "code",
   "execution_count": 14,
   "id": "89501400",
   "metadata": {},
   "outputs": [],
   "source": [
    "labels = kMeans_model.labels_"
   ]
  },
  {
   "cell_type": "code",
   "execution_count": 15,
   "id": "02d2bfc4",
   "metadata": {},
   "outputs": [],
   "source": [
    "clusters = kMeans_model.cluster_centers_"
   ]
  },
  {
   "cell_type": "code",
   "execution_count": 16,
   "id": "4e9f0fc8",
   "metadata": {},
   "outputs": [
    {
     "name": "stdout",
     "output_type": "stream",
     "text": [
      "[2 0 1 2 0 1 1 0 0 1]\n",
      "[[168.    72.5 ]\n",
      " [181.    70.25]\n",
      " [184.5   81.  ]]\n"
     ]
    }
   ],
   "source": [
    "print(labels)\n",
    "print(clusters)"
   ]
  },
  {
   "cell_type": "markdown",
   "id": "e5127649",
   "metadata": {},
   "source": [
    "# Final code "
   ]
  },
  {
   "cell_type": "code",
   "execution_count": 28,
   "id": "07804e9e",
   "metadata": {},
   "outputs": [
    {
     "data": {
      "image/png": "[encoded data removed]",
      "text/plain": [
       "<Figure size 640x480 with 1 Axes>"
      ]
     },
     "metadata": {},
     "output_type": "display_data"
    }
   ],
   "source": [
    "import pandas as pd\n",
    "import matplotlib.pyplot as plt\n",
    "from sklearn.cluster import KMeans\n",
    "\n",
    "# Step 1: Load the data\n",
    "data = pd.read_csv('heightWeight.csv')\n",
    "\n",
    "# Step 2: Prepare the features (X)\n",
    "X = data[['Height', 'Weight']]  # Note the space after 'Weight'\n",
    "\n",
    "# Step 3: Apply KMeans\n",
    "kmeans = KMeans(n_clusters=3, random_state=0)\n",
    "kmeans.fit(X)\n",
    "\n",
    "# Step 4: Get the cluster labels and centers\n",
    "labels = kmeans.labels_\n",
    "centers = kmeans.cluster_centers_\n",
    "\n",
    "# Step 6: Plot\n",
    "plt.scatter(data['Height'], data['Weight'], c=labels, cmap='viridis', label='Data Points')\n",
    "plt.scatter(centers[:, 0], centers[:, 1], s=200, marker='+', color='red', label='Centers')\n",
    "plt.xlabel('Height')\n",
    "plt.ylabel('Weight')\n",
    "plt.title('KMeans Clustering (k=3)')\n",
    "plt.legend()\n",
    "plt.show()\n",
    "\n",
    "\n"
   ]
  },
  {
   "cell_type": "code",
   "execution_count": null,
   "id": "13b8fee9",
   "metadata": {},
   "outputs": [],
   "source": []
  },
  {
   "cell_type": "code",
   "execution_count": null,
   "id": "e5e68401",
   "metadata": {},
   "outputs": [],
   "source": []
  }
 ],
 "metadata": {
  "kernelspec": {
   "display_name": "Python 3",
   "language": "python",
   "name": "python3"
  },
  "language_info": {
   "codemirror_mode": {
    "name": "ipython",
    "version": 3
   },
   "file_extension": ".py",
   "mimetype": "text/x-python",
   "name": "python",
   "nbconvert_exporter": "python",
   "pygments_lexer": "ipython3",
   "version": "3.12.1"
  }
 },
 "nbformat": 4,
 "nbformat_minor": 5
}
