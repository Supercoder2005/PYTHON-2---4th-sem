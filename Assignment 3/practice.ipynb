{
 "cells": [
  {
   "cell_type": "markdown",
   "id": "6c53ac8a",
   "metadata": {},
   "source": [
    "# print the data frame "
   ]
  },
  {
   "cell_type": "code",
   "execution_count": 1,
   "id": "83215c09",
   "metadata": {},
   "outputs": [
    {
     "name": "stdout",
     "output_type": "stream",
     "text": [
      "     sepal.length  sepal.width  petal.length  petal.width    variety\n",
      "0             5.1          3.5           1.4          0.2     Setosa\n",
      "1             4.9          3.0           1.4          0.2     Setosa\n",
      "2             4.7          3.2           1.3          0.2     Setosa\n",
      "3             4.6          3.1           1.5          0.2     Setosa\n",
      "4             5.0          3.6           1.4          0.2     Setosa\n",
      "..            ...          ...           ...          ...        ...\n",
      "145           6.7          3.0           5.2          2.3  Virginica\n",
      "146           6.3          2.5           5.0          1.9  Virginica\n",
      "147           6.5          3.0           5.2          2.0  Virginica\n",
      "148           6.2          3.4           5.4          2.3  Virginica\n",
      "149           5.9          3.0           5.1          1.8  Virginica\n",
      "\n",
      "[150 rows x 5 columns]\n"
     ]
    }
   ],
   "source": [
    "import pandas as pd \n",
    "data = pd.read_csv(\"iris-1.csv\")\n",
    "print(data)"
   ]
  },
  {
   "cell_type": "markdown",
   "id": "d07d3f31",
   "metadata": {},
   "source": [
    "# display top 5 rows"
   ]
  },
  {
   "cell_type": "code",
   "execution_count": 2,
   "id": "965e453c",
   "metadata": {},
   "outputs": [
    {
     "name": "stdout",
     "output_type": "stream",
     "text": [
      "   sepal.length  sepal.width  petal.length  petal.width variety\n",
      "0           5.1          3.5           1.4          0.2  Setosa\n",
      "1           4.9          3.0           1.4          0.2  Setosa\n",
      "2           4.7          3.2           1.3          0.2  Setosa\n",
      "3           4.6          3.1           1.5          0.2  Setosa\n",
      "4           5.0          3.6           1.4          0.2  Setosa\n"
     ]
    }
   ],
   "source": [
    "print(data.head())"
   ]
  },
  {
   "cell_type": "markdown",
   "id": "ef770d4a",
   "metadata": {},
   "source": [
    "# Statistical analysis"
   ]
  },
  {
   "cell_type": "code",
   "execution_count": 3,
   "id": "18841eda",
   "metadata": {},
   "outputs": [
    {
     "name": "stdout",
     "output_type": "stream",
     "text": [
      "       sepal.length  sepal.width  petal.length  petal.width\n",
      "count    150.000000   150.000000    150.000000   150.000000\n",
      "mean       5.843333     3.057333      3.758000     1.199333\n",
      "std        0.828066     0.435866      1.765298     0.762238\n",
      "min        4.300000     2.000000      1.000000     0.100000\n",
      "25%        5.100000     2.800000      1.600000     0.300000\n",
      "50%        5.800000     3.000000      4.350000     1.300000\n",
      "75%        6.400000     3.300000      5.100000     1.800000\n",
      "max        7.900000     4.400000      6.900000     2.500000\n"
     ]
    }
   ],
   "source": [
    "print(data.describe())"
   ]
  },
  {
   "cell_type": "markdown",
   "id": "885e10f8",
   "metadata": {},
   "source": [
    "# displahy 10 random sample rows"
   ]
  },
  {
   "cell_type": "code",
   "execution_count": 7,
   "id": "72b9f995",
   "metadata": {},
   "outputs": [
    {
     "name": "stdout",
     "output_type": "stream",
     "text": [
      "     sepal.length  sepal.width  petal.length  petal.width     variety\n",
      "101           5.8          2.7           5.1          1.9   Virginica\n",
      "58            6.6          2.9           4.6          1.3  Versicolor\n",
      "127           6.1          3.0           4.9          1.8   Virginica\n",
      "43            5.0          3.5           1.6          0.6      Setosa\n",
      "145           6.7          3.0           5.2          2.3   Virginica\n",
      "61            5.9          3.0           4.2          1.5  Versicolor\n",
      "91            6.1          3.0           4.6          1.4  Versicolor\n",
      "49            5.0          3.3           1.4          0.2      Setosa\n",
      "121           5.6          2.8           4.9          2.0   Virginica\n",
      "52            6.9          3.1           4.9          1.5  Versicolor\n"
     ]
    }
   ],
   "source": [
    "print(data.sample(10))"
   ]
  },
  {
   "cell_type": "markdown",
   "id": "5e4cd0ed",
   "metadata": {},
   "source": [
    "# display num of columns and names of the coloumns"
   ]
  },
  {
   "cell_type": "code",
   "execution_count": 8,
   "id": "6be23b18",
   "metadata": {},
   "outputs": [
    {
     "name": "stdout",
     "output_type": "stream",
     "text": [
      "5\n",
      "Index(['sepal.length', 'sepal.width', 'petal.length', 'petal.width',\n",
      "       'variety'],\n",
      "      dtype='object')\n"
     ]
    }
   ],
   "source": [
    "print(len(data.columns))\n",
    "print(data.columns)"
   ]
  },
  {
   "cell_type": "markdown",
   "id": "8bf3761c",
   "metadata": {},
   "source": [
    "# print shape of the dataset"
   ]
  },
  {
   "cell_type": "code",
   "execution_count": 9,
   "id": "72ffcbc3",
   "metadata": {},
   "outputs": [
    {
     "name": "stdout",
     "output_type": "stream",
     "text": [
      "(150, 5)\n"
     ]
    }
   ],
   "source": [
    "print(data.shape)"
   ]
  },
  {
   "cell_type": "markdown",
   "id": "474b20b6",
   "metadata": {},
   "source": [
    "# fetch data from 5th row to 10th row"
   ]
  },
  {
   "cell_type": "code",
   "execution_count": 10,
   "id": "fb7c080a",
   "metadata": {},
   "outputs": [
    {
     "name": "stdout",
     "output_type": "stream",
     "text": [
      "    sepal.length  sepal.width  petal.length  petal.width variety\n",
      "5            5.4          3.9           1.7          0.4  Setosa\n",
      "6            4.6          3.4           1.4          0.3  Setosa\n",
      "7            5.0          3.4           1.5          0.2  Setosa\n",
      "8            4.4          2.9           1.4          0.2  Setosa\n",
      "9            4.9          3.1           1.5          0.1  Setosa\n",
      "10           5.4          3.7           1.5          0.2  Setosa\n"
     ]
    }
   ],
   "source": [
    "print(data.loc[5:10])"
   ]
  },
  {
   "cell_type": "markdown",
   "id": "ea77c115",
   "metadata": {},
   "source": [
    "# display data for two coloumns"
   ]
  },
  {
   "cell_type": "code",
   "execution_count": 11,
   "id": "e42e8323",
   "metadata": {},
   "outputs": [
    {
     "name": "stdout",
     "output_type": "stream",
     "text": [
      "     sepal.length  petal.width\n",
      "0             5.1          0.2\n",
      "1             4.9          0.2\n",
      "2             4.7          0.2\n",
      "3             4.6          0.2\n",
      "4             5.0          0.2\n",
      "..            ...          ...\n",
      "145           6.7          2.3\n",
      "146           6.3          1.9\n",
      "147           6.5          2.0\n",
      "148           6.2          2.3\n",
      "149           5.9          1.8\n",
      "\n",
      "[150 rows x 2 columns]\n"
     ]
    }
   ],
   "source": [
    "print(data[['sepal.length','petal.width']])"
   ]
  },
  {
   "cell_type": "markdown",
   "id": "ed7e009c",
   "metadata": {},
   "source": [
    "# counting the num of counts of each variety"
   ]
  },
  {
   "cell_type": "code",
   "execution_count": 13,
   "id": "3c970850",
   "metadata": {},
   "outputs": [
    {
     "name": "stdout",
     "output_type": "stream",
     "text": [
      "variety\n",
      "Setosa        50\n",
      "Versicolor    50\n",
      "Virginica     50\n",
      "Name: count, dtype: int64\n",
      "petal.width\n",
      "0.2    29\n",
      "1.3    13\n",
      "1.5    12\n",
      "1.8    12\n",
      "1.4     8\n",
      "2.3     8\n",
      "0.4     7\n",
      "1.0     7\n",
      "0.3     7\n",
      "2.1     6\n",
      "2.0     6\n",
      "1.2     5\n",
      "0.1     5\n",
      "1.9     5\n",
      "1.6     4\n",
      "2.5     3\n",
      "2.2     3\n",
      "1.1     3\n",
      "2.4     3\n",
      "1.7     2\n",
      "0.6     1\n",
      "0.5     1\n",
      "Name: count, dtype: int64\n"
     ]
    }
   ],
   "source": [
    "print(data['variety'].value_counts())\n",
    "print(data['petal.width'].value_counts())"
   ]
  },
  {
   "cell_type": "markdown",
   "id": "3af99833",
   "metadata": {},
   "source": [
    "# display only those rows whose variety is setosa"
   ]
  },
  {
   "cell_type": "code",
   "execution_count": 15,
   "id": "c6199777",
   "metadata": {},
   "outputs": [
    {
     "name": "stdout",
     "output_type": "stream",
     "text": [
      "    sepal.length  sepal.width  petal.length  petal.width variety\n",
      "0            5.1          3.5           1.4          0.2  Setosa\n",
      "1            4.9          3.0           1.4          0.2  Setosa\n",
      "2            4.7          3.2           1.3          0.2  Setosa\n",
      "3            4.6          3.1           1.5          0.2  Setosa\n",
      "4            5.0          3.6           1.4          0.2  Setosa\n",
      "5            5.4          3.9           1.7          0.4  Setosa\n",
      "6            4.6          3.4           1.4          0.3  Setosa\n",
      "7            5.0          3.4           1.5          0.2  Setosa\n",
      "8            4.4          2.9           1.4          0.2  Setosa\n",
      "9            4.9          3.1           1.5          0.1  Setosa\n",
      "10           5.4          3.7           1.5          0.2  Setosa\n",
      "11           4.8          3.4           1.6          0.2  Setosa\n",
      "12           4.8          3.0           1.4          0.1  Setosa\n",
      "13           4.3          3.0           1.1          0.1  Setosa\n",
      "14           5.8          4.0           1.2          0.2  Setosa\n",
      "15           5.7          4.4           1.5          0.4  Setosa\n",
      "16           5.4          3.9           1.3          0.4  Setosa\n",
      "17           5.1          3.5           1.4          0.3  Setosa\n",
      "18           5.7          3.8           1.7          0.3  Setosa\n",
      "19           5.1          3.8           1.5          0.3  Setosa\n",
      "20           5.4          3.4           1.7          0.2  Setosa\n",
      "21           5.1          3.7           1.5          0.4  Setosa\n",
      "22           4.6          3.6           1.0          0.2  Setosa\n",
      "23           5.1          3.3           1.7          0.5  Setosa\n",
      "24           4.8          3.4           1.9          0.2  Setosa\n",
      "25           5.0          3.0           1.6          0.2  Setosa\n",
      "26           5.0          3.4           1.6          0.4  Setosa\n",
      "27           5.2          3.5           1.5          0.2  Setosa\n",
      "28           5.2          3.4           1.4          0.2  Setosa\n",
      "29           4.7          3.2           1.6          0.2  Setosa\n",
      "30           4.8          3.1           1.6          0.2  Setosa\n",
      "31           5.4          3.4           1.5          0.4  Setosa\n",
      "32           5.2          4.1           1.5          0.1  Setosa\n",
      "33           5.5          4.2           1.4          0.2  Setosa\n",
      "34           4.9          3.1           1.5          0.2  Setosa\n",
      "35           5.0          3.2           1.2          0.2  Setosa\n",
      "36           5.5          3.5           1.3          0.2  Setosa\n",
      "37           4.9          3.6           1.4          0.1  Setosa\n",
      "38           4.4          3.0           1.3          0.2  Setosa\n",
      "39           5.1          3.4           1.5          0.2  Setosa\n",
      "40           5.0          3.5           1.3          0.3  Setosa\n",
      "41           4.5          2.3           1.3          0.3  Setosa\n",
      "42           4.4          3.2           1.3          0.2  Setosa\n",
      "43           5.0          3.5           1.6          0.6  Setosa\n",
      "44           5.1          3.8           1.9          0.4  Setosa\n",
      "45           4.8          3.0           1.4          0.3  Setosa\n",
      "46           5.1          3.8           1.6          0.2  Setosa\n",
      "47           4.6          3.2           1.4          0.2  Setosa\n",
      "48           5.3          3.7           1.5          0.2  Setosa\n",
      "49           5.0          3.3           1.4          0.2  Setosa\n"
     ]
    }
   ],
   "source": [
    "print(data[data['variety']=='Setosa'])"
   ]
  },
  {
   "cell_type": "markdown",
   "id": "ec1f4dc4",
   "metadata": {},
   "source": [
    "# Calculate the mean, median ,mode of a particular column"
   ]
  },
  {
   "cell_type": "code",
   "execution_count": 16,
   "id": "2261ae10",
   "metadata": {},
   "outputs": [
    {
     "name": "stdout",
     "output_type": "stream",
     "text": [
      "3.7580000000000005\n",
      "4.35\n",
      "0    1.4\n",
      "1    1.5\n",
      "Name: petal.length, dtype: float64\n"
     ]
    }
   ],
   "source": [
    "print(data['petal.length'].mean())\n",
    "print(data['petal.length'].median())\n",
    "print(data['petal.length'].mode())"
   ]
  },
  {
   "cell_type": "markdown",
   "id": "cd765e6c",
   "metadata": {},
   "source": [
    "# Extract minimum and maximum value from a column"
   ]
  },
  {
   "cell_type": "code",
   "execution_count": 17,
   "id": "8a8452a0",
   "metadata": {},
   "outputs": [
    {
     "name": "stdout",
     "output_type": "stream",
     "text": [
      "1.0\n",
      "6.9\n"
     ]
    }
   ],
   "source": [
    "print(data['petal.length'].min())\n",
    "print(data['petal.length'].max())"
   ]
  },
  {
   "cell_type": "markdown",
   "id": "b63a2c60",
   "metadata": {},
   "source": [
    "# Add a column 'total-value' which will display the sum of the integer values of each row "
   ]
  },
  {
   "cell_type": "code",
   "execution_count": 21,
   "id": "34ad7361",
   "metadata": {},
   "outputs": [
    {
     "name": "stdout",
     "output_type": "stream",
     "text": [
      "   sepal.length  sepal.width  petal.length  petal.width variety  10.2  9.5  \\\n",
      "0           5.1          3.5           1.4          0.2  Setosa  10.2  9.5   \n",
      "1           4.9          3.0           1.4          0.2  Setosa  10.2  9.5   \n",
      "2           4.7          3.2           1.3          0.2  Setosa  10.2  9.5   \n",
      "3           4.6          3.1           1.5          0.2  Setosa  10.2  9.5   \n",
      "4           5.0          3.6           1.4          0.2  Setosa  10.2  9.5   \n",
      "\n",
      "   9.4  11.4  9.7  ...  16.9  17.6  20.1  17.0  19.1  17.7  17.4  16.7  17.3  \\\n",
      "0  9.4  11.4  9.7  ...  16.9  17.6  20.1  17.0  19.1  17.7  17.4  16.7  17.3   \n",
      "1  9.4  11.4  9.7  ...  16.9  17.6  20.1  17.0  19.1  17.7  17.4  16.7  17.3   \n",
      "2  9.4  11.4  9.7  ...  16.9  17.6  20.1  17.0  19.1  17.7  17.4  16.7  17.3   \n",
      "3  9.4  11.4  9.7  ...  16.9  17.6  20.1  17.0  19.1  17.7  17.4  16.7  17.3   \n",
      "4  9.4  11.4  9.7  ...  16.9  17.6  20.1  17.0  19.1  17.7  17.4  16.7  17.3   \n",
      "\n",
      "   total_value  \n",
      "0         10.2  \n",
      "1          9.5  \n",
      "2          9.4  \n",
      "3          9.4  \n",
      "4         10.2  \n",
      "\n",
      "[5 rows x 106 columns]\n"
     ]
    },
    {
     "name": "stderr",
     "output_type": "stream",
     "text": [
      "C:\\Users\\OORNEE MITRA\\AppData\\Local\\Temp\\ipykernel_11004\\956311028.py:1: PerformanceWarning: DataFrame is highly fragmented.  This is usually the result of calling `frame.insert` many times, which has poor performance.  Consider joining all columns at once using pd.concat(axis=1) instead. To get a de-fragmented frame, use `newframe = frame.copy()`\n",
      "  data['total_value'] = data[['petal.length','petal.width','sepal.length','sepal.width']].sum(axis=1)\n"
     ]
    }
   ],
   "source": [
    "data['total_value'] = data[['petal.length','petal.width','sepal.length','sepal.width']].sum(axis=1)\n",
    "print(data.head())"
   ]
  },
  {
   "cell_type": "markdown",
   "id": "74797221",
   "metadata": {},
   "source": [
    "# Rename the column 'total_value' to 'total'"
   ]
  },
  {
   "cell_type": "code",
   "execution_count": 25,
   "id": "0640b87b",
   "metadata": {},
   "outputs": [
    {
     "name": "stdout",
     "output_type": "stream",
     "text": [
      "   sepal.length  sepal.width  petal.length  petal.width variety  10.2  9.5  \\\n",
      "0           5.1          3.5           1.4          0.2  Setosa  10.2  9.5   \n",
      "1           4.9          3.0           1.4          0.2  Setosa  10.2  9.5   \n",
      "2           4.7          3.2           1.3          0.2  Setosa  10.2  9.5   \n",
      "3           4.6          3.1           1.5          0.2  Setosa  10.2  9.5   \n",
      "4           5.0          3.6           1.4          0.2  Setosa  10.2  9.5   \n",
      "\n",
      "   9.4  11.4  9.7  ...  16.9  17.6  20.1  17.0  19.1  17.7  17.4  16.7  17.3  \\\n",
      "0  9.4  11.4  9.7  ...  16.9  17.6  20.1  17.0  19.1  17.7  17.4  16.7  17.3   \n",
      "1  9.4  11.4  9.7  ...  16.9  17.6  20.1  17.0  19.1  17.7  17.4  16.7  17.3   \n",
      "2  9.4  11.4  9.7  ...  16.9  17.6  20.1  17.0  19.1  17.7  17.4  16.7  17.3   \n",
      "3  9.4  11.4  9.7  ...  16.9  17.6  20.1  17.0  19.1  17.7  17.4  16.7  17.3   \n",
      "4  9.4  11.4  9.7  ...  16.9  17.6  20.1  17.0  19.1  17.7  17.4  16.7  17.3   \n",
      "\n",
      "   total  \n",
      "0   10.2  \n",
      "1    9.5  \n",
      "2    9.4  \n",
      "3    9.4  \n",
      "4   10.2  \n",
      "\n",
      "[5 rows x 106 columns]\n"
     ]
    }
   ],
   "source": [
    "data.rename(columns={'total_value':'total'},inplace=True)\n",
    "print(data.head())"
   ]
  },
  {
   "cell_type": "code",
   "execution_count": 27,
   "id": "f61fb054",
   "metadata": {},
   "outputs": [
    {
     "name": "stdout",
     "output_type": "stream",
     "text": [
      "   sepal.length  sepal.width  petal.length  petal.width variety  10.2  9.5  \\\n",
      "0           5.1          3.5           1.4          0.2  Setosa  10.2  9.5   \n",
      "1           4.9          3.0           1.4          0.2  Setosa  10.2  9.5   \n",
      "2           4.7          3.2           1.3          0.2  Setosa  10.2  9.5   \n",
      "3           4.6          3.1           1.5          0.2  Setosa  10.2  9.5   \n",
      "4           5.0          3.6           1.4          0.2  Setosa  10.2  9.5   \n",
      "\n",
      "   9.4  11.4  9.7  ...  16.9  17.6  20.1  17.0  19.1  17.7  17.4  16.7  17.3  \\\n",
      "0  9.4  11.4  9.7  ...  16.9  17.6  20.1  17.0  19.1  17.7  17.4  16.7  17.3   \n",
      "1  9.4  11.4  9.7  ...  16.9  17.6  20.1  17.0  19.1  17.7  17.4  16.7  17.3   \n",
      "2  9.4  11.4  9.7  ...  16.9  17.6  20.1  17.0  19.1  17.7  17.4  16.7  17.3   \n",
      "3  9.4  11.4  9.7  ...  16.9  17.6  20.1  17.0  19.1  17.7  17.4  16.7  17.3   \n",
      "4  9.4  11.4  9.7  ...  16.9  17.6  20.1  17.0  19.1  17.7  17.4  16.7  17.3   \n",
      "\n",
      "   total_value  \n",
      "0         10.2  \n",
      "1          9.5  \n",
      "2          9.4  \n",
      "3          9.4  \n",
      "4         10.2  \n",
      "\n",
      "[5 rows x 106 columns]\n"
     ]
    }
   ],
   "source": [
    "data.rename(columns={'total':'total_value'},inplace=True)\n",
    "print(data.head())"
   ]
  },
  {
   "cell_type": "markdown",
   "id": "4a9c38d7",
   "metadata": {},
   "source": [
    "# remove the column 'total_value'"
   ]
  },
  {
   "cell_type": "code",
   "execution_count": 32,
   "id": "df4f851f",
   "metadata": {},
   "outputs": [
    {
     "ename": "KeyError",
     "evalue": "\"['total_value'] not found in axis\"",
     "output_type": "error",
     "traceback": [
      "\u001b[1;31m---------------------------------------------------------------------------\u001b[0m",
      "\u001b[1;31mKeyError\u001b[0m                                  Traceback (most recent call last)",
      "Cell \u001b[1;32mIn[32], line 1\u001b[0m\n\u001b[1;32m----> 1\u001b[0m \u001b[43mdata\u001b[49m\u001b[38;5;241;43m.\u001b[39;49m\u001b[43mdrop\u001b[49m\u001b[43m(\u001b[49m\u001b[43mcolumns\u001b[49m\u001b[43m \u001b[49m\u001b[38;5;241;43m=\u001b[39;49m\u001b[43m \u001b[49m\u001b[38;5;124;43m'\u001b[39;49m\u001b[38;5;124;43mtotal_value\u001b[39;49m\u001b[38;5;124;43m'\u001b[39;49m\u001b[43m,\u001b[49m\u001b[43minplace\u001b[49m\u001b[38;5;241;43m=\u001b[39;49m\u001b[38;5;28;43;01mTrue\u001b[39;49;00m\u001b[43m)\u001b[49m\n\u001b[0;32m      2\u001b[0m \u001b[38;5;28mprint\u001b[39m(data\u001b[38;5;241m.\u001b[39mcolumns)\n",
      "File \u001b[1;32mc:\\New folder\\Lib\\site-packages\\pandas\\core\\frame.py:5581\u001b[0m, in \u001b[0;36mDataFrame.drop\u001b[1;34m(self, labels, axis, index, columns, level, inplace, errors)\u001b[0m\n\u001b[0;32m   5433\u001b[0m \u001b[38;5;28;01mdef\u001b[39;00m \u001b[38;5;21mdrop\u001b[39m(\n\u001b[0;32m   5434\u001b[0m     \u001b[38;5;28mself\u001b[39m,\n\u001b[0;32m   5435\u001b[0m     labels: IndexLabel \u001b[38;5;241m|\u001b[39m \u001b[38;5;28;01mNone\u001b[39;00m \u001b[38;5;241m=\u001b[39m \u001b[38;5;28;01mNone\u001b[39;00m,\n\u001b[1;32m   (...)\u001b[0m\n\u001b[0;32m   5442\u001b[0m     errors: IgnoreRaise \u001b[38;5;241m=\u001b[39m \u001b[38;5;124m\"\u001b[39m\u001b[38;5;124mraise\u001b[39m\u001b[38;5;124m\"\u001b[39m,\n\u001b[0;32m   5443\u001b[0m ) \u001b[38;5;241m-\u001b[39m\u001b[38;5;241m>\u001b[39m DataFrame \u001b[38;5;241m|\u001b[39m \u001b[38;5;28;01mNone\u001b[39;00m:\n\u001b[0;32m   5444\u001b[0m \u001b[38;5;250m    \u001b[39m\u001b[38;5;124;03m\"\"\"\u001b[39;00m\n\u001b[0;32m   5445\u001b[0m \u001b[38;5;124;03m    Drop specified labels from rows or columns.\u001b[39;00m\n\u001b[0;32m   5446\u001b[0m \n\u001b[1;32m   (...)\u001b[0m\n\u001b[0;32m   5579\u001b[0m \u001b[38;5;124;03m            weight  1.0     0.8\u001b[39;00m\n\u001b[0;32m   5580\u001b[0m \u001b[38;5;124;03m    \"\"\"\u001b[39;00m\n\u001b[1;32m-> 5581\u001b[0m     \u001b[38;5;28;01mreturn\u001b[39;00m \u001b[38;5;28;43msuper\u001b[39;49m\u001b[43m(\u001b[49m\u001b[43m)\u001b[49m\u001b[38;5;241;43m.\u001b[39;49m\u001b[43mdrop\u001b[49m\u001b[43m(\u001b[49m\n\u001b[0;32m   5582\u001b[0m \u001b[43m        \u001b[49m\u001b[43mlabels\u001b[49m\u001b[38;5;241;43m=\u001b[39;49m\u001b[43mlabels\u001b[49m\u001b[43m,\u001b[49m\n\u001b[0;32m   5583\u001b[0m \u001b[43m        \u001b[49m\u001b[43maxis\u001b[49m\u001b[38;5;241;43m=\u001b[39;49m\u001b[43maxis\u001b[49m\u001b[43m,\u001b[49m\n\u001b[0;32m   5584\u001b[0m \u001b[43m        \u001b[49m\u001b[43mindex\u001b[49m\u001b[38;5;241;43m=\u001b[39;49m\u001b[43mindex\u001b[49m\u001b[43m,\u001b[49m\n\u001b[0;32m   5585\u001b[0m \u001b[43m        \u001b[49m\u001b[43mcolumns\u001b[49m\u001b[38;5;241;43m=\u001b[39;49m\u001b[43mcolumns\u001b[49m\u001b[43m,\u001b[49m\n\u001b[0;32m   5586\u001b[0m \u001b[43m        \u001b[49m\u001b[43mlevel\u001b[49m\u001b[38;5;241;43m=\u001b[39;49m\u001b[43mlevel\u001b[49m\u001b[43m,\u001b[49m\n\u001b[0;32m   5587\u001b[0m \u001b[43m        \u001b[49m\u001b[43minplace\u001b[49m\u001b[38;5;241;43m=\u001b[39;49m\u001b[43minplace\u001b[49m\u001b[43m,\u001b[49m\n\u001b[0;32m   5588\u001b[0m \u001b[43m        \u001b[49m\u001b[43merrors\u001b[49m\u001b[38;5;241;43m=\u001b[39;49m\u001b[43merrors\u001b[49m\u001b[43m,\u001b[49m\n\u001b[0;32m   5589\u001b[0m \u001b[43m    \u001b[49m\u001b[43m)\u001b[49m\n",
      "File \u001b[1;32mc:\\New folder\\Lib\\site-packages\\pandas\\core\\generic.py:4788\u001b[0m, in \u001b[0;36mNDFrame.drop\u001b[1;34m(self, labels, axis, index, columns, level, inplace, errors)\u001b[0m\n\u001b[0;32m   4786\u001b[0m \u001b[38;5;28;01mfor\u001b[39;00m axis, labels \u001b[38;5;129;01min\u001b[39;00m axes\u001b[38;5;241m.\u001b[39mitems():\n\u001b[0;32m   4787\u001b[0m     \u001b[38;5;28;01mif\u001b[39;00m labels \u001b[38;5;129;01mis\u001b[39;00m \u001b[38;5;129;01mnot\u001b[39;00m \u001b[38;5;28;01mNone\u001b[39;00m:\n\u001b[1;32m-> 4788\u001b[0m         obj \u001b[38;5;241m=\u001b[39m \u001b[43mobj\u001b[49m\u001b[38;5;241;43m.\u001b[39;49m\u001b[43m_drop_axis\u001b[49m\u001b[43m(\u001b[49m\u001b[43mlabels\u001b[49m\u001b[43m,\u001b[49m\u001b[43m \u001b[49m\u001b[43maxis\u001b[49m\u001b[43m,\u001b[49m\u001b[43m \u001b[49m\u001b[43mlevel\u001b[49m\u001b[38;5;241;43m=\u001b[39;49m\u001b[43mlevel\u001b[49m\u001b[43m,\u001b[49m\u001b[43m \u001b[49m\u001b[43merrors\u001b[49m\u001b[38;5;241;43m=\u001b[39;49m\u001b[43merrors\u001b[49m\u001b[43m)\u001b[49m\n\u001b[0;32m   4790\u001b[0m \u001b[38;5;28;01mif\u001b[39;00m inplace:\n\u001b[0;32m   4791\u001b[0m     \u001b[38;5;28mself\u001b[39m\u001b[38;5;241m.\u001b[39m_update_inplace(obj)\n",
      "File \u001b[1;32mc:\\New folder\\Lib\\site-packages\\pandas\\core\\generic.py:4830\u001b[0m, in \u001b[0;36mNDFrame._drop_axis\u001b[1;34m(self, labels, axis, level, errors, only_slice)\u001b[0m\n\u001b[0;32m   4828\u001b[0m         new_axis \u001b[38;5;241m=\u001b[39m axis\u001b[38;5;241m.\u001b[39mdrop(labels, level\u001b[38;5;241m=\u001b[39mlevel, errors\u001b[38;5;241m=\u001b[39merrors)\n\u001b[0;32m   4829\u001b[0m     \u001b[38;5;28;01melse\u001b[39;00m:\n\u001b[1;32m-> 4830\u001b[0m         new_axis \u001b[38;5;241m=\u001b[39m \u001b[43maxis\u001b[49m\u001b[38;5;241;43m.\u001b[39;49m\u001b[43mdrop\u001b[49m\u001b[43m(\u001b[49m\u001b[43mlabels\u001b[49m\u001b[43m,\u001b[49m\u001b[43m \u001b[49m\u001b[43merrors\u001b[49m\u001b[38;5;241;43m=\u001b[39;49m\u001b[43merrors\u001b[49m\u001b[43m)\u001b[49m\n\u001b[0;32m   4831\u001b[0m     indexer \u001b[38;5;241m=\u001b[39m axis\u001b[38;5;241m.\u001b[39mget_indexer(new_axis)\n\u001b[0;32m   4833\u001b[0m \u001b[38;5;66;03m# Case for non-unique axis\u001b[39;00m\n\u001b[0;32m   4834\u001b[0m \u001b[38;5;28;01melse\u001b[39;00m:\n",
      "File \u001b[1;32mc:\\New folder\\Lib\\site-packages\\pandas\\core\\indexes\\base.py:7070\u001b[0m, in \u001b[0;36mIndex.drop\u001b[1;34m(self, labels, errors)\u001b[0m\n\u001b[0;32m   7068\u001b[0m \u001b[38;5;28;01mif\u001b[39;00m mask\u001b[38;5;241m.\u001b[39many():\n\u001b[0;32m   7069\u001b[0m     \u001b[38;5;28;01mif\u001b[39;00m errors \u001b[38;5;241m!=\u001b[39m \u001b[38;5;124m\"\u001b[39m\u001b[38;5;124mignore\u001b[39m\u001b[38;5;124m\"\u001b[39m:\n\u001b[1;32m-> 7070\u001b[0m         \u001b[38;5;28;01mraise\u001b[39;00m \u001b[38;5;167;01mKeyError\u001b[39;00m(\u001b[38;5;124mf\u001b[39m\u001b[38;5;124m\"\u001b[39m\u001b[38;5;132;01m{\u001b[39;00mlabels[mask]\u001b[38;5;241m.\u001b[39mtolist()\u001b[38;5;132;01m}\u001b[39;00m\u001b[38;5;124m not found in axis\u001b[39m\u001b[38;5;124m\"\u001b[39m)\n\u001b[0;32m   7071\u001b[0m     indexer \u001b[38;5;241m=\u001b[39m indexer[\u001b[38;5;241m~\u001b[39mmask]\n\u001b[0;32m   7072\u001b[0m \u001b[38;5;28;01mreturn\u001b[39;00m \u001b[38;5;28mself\u001b[39m\u001b[38;5;241m.\u001b[39mdelete(indexer)\n",
      "\u001b[1;31mKeyError\u001b[0m: \"['total_value'] not found in axis\""
     ]
    }
   ],
   "source": [
    "data.drop(columns = 'total_value',inplace=True)\n",
    "print(data.columns)"
   ]
  },
  {
   "cell_type": "markdown",
   "id": "4d800e07",
   "metadata": {},
   "source": []
  }
 ],
 "metadata": {
  "kernelspec": {
   "display_name": "Python 3",
   "language": "python",
   "name": "python3"
  },
  "language_info": {
   "codemirror_mode": {
    "name": "ipython",
    "version": 3
   },
   "file_extension": ".py",
   "mimetype": "text/x-python",
   "name": "python",
   "nbconvert_exporter": "python",
   "pygments_lexer": "ipython3",
   "version": "3.12.5"
  }
 },
 "nbformat": 4,
 "nbformat_minor": 5
}
