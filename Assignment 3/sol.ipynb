{
 "cells": [
  {
   "cell_type": "markdown",
   "id": "5c2f076e",
   "metadata": {},
   "source": [
    "Read  the  Iris  dataset (iris.csv) using pandas and data frame"
   ]
  },
  {
   "cell_type": "code",
   "execution_count": 1,
   "id": "68e8911f",
   "metadata": {},
   "outputs": [],
   "source": [
    "import pandas as pd "
   ]
  },
  {
   "cell_type": "code",
   "execution_count": null,
   "id": "4fe76255",
   "metadata": {},
   "outputs": [],
   "source": [
    "data = pd.read_csv(\"C:/Users/OORNEE MITRA/Downloads/iris-1.csv\")\n",
    "# data = pd.read_csv(\"C:\\\\Users\\\\OORNEE MITRA\\\\Downloads\\\\iris-1.csv\")"
   ]
  },
  {
   "cell_type": "markdown",
   "id": "39218210",
   "metadata": {},
   "source": [
    "1.  Print the data frame."
   ]
  },
  {
   "cell_type": "code",
   "execution_count": 7,
   "id": "d3b11fb5",
   "metadata": {},
   "outputs": [
    {
     "name": "stdout",
     "output_type": "stream",
     "text": [
      "     sepal.length  sepal.width  petal.length  petal.width    variety\n",
      "0             5.1          3.5           1.4          0.2     Setosa\n",
      "1             4.9          3.0           1.4          0.2     Setosa\n",
      "2             4.7          3.2           1.3          0.2     Setosa\n",
      "3             4.6          3.1           1.5          0.2     Setosa\n",
      "4             5.0          3.6           1.4          0.2     Setosa\n",
      "..            ...          ...           ...          ...        ...\n",
      "145           6.7          3.0           5.2          2.3  Virginica\n",
      "146           6.3          2.5           5.0          1.9  Virginica\n",
      "147           6.5          3.0           5.2          2.0  Virginica\n",
      "148           6.2          3.4           5.4          2.3  Virginica\n",
      "149           5.9          3.0           5.1          1.8  Virginica\n",
      "\n",
      "[150 rows x 5 columns]\n"
     ]
    }
   ],
   "source": [
    "print(data)"
   ]
  },
  {
   "cell_type": "markdown",
   "id": "b094eb9d",
   "metadata": {},
   "source": [
    "2.  Display top 5 rows. "
   ]
  },
  {
   "cell_type": "code",
   "execution_count": 8,
   "id": "f28754e9",
   "metadata": {},
   "outputs": [
    {
     "name": "stdout",
     "output_type": "stream",
     "text": [
      "   sepal.length  sepal.width  petal.length  petal.width variety\n",
      "0           5.1          3.5           1.4          0.2  Setosa\n",
      "1           4.9          3.0           1.4          0.2  Setosa\n",
      "2           4.7          3.2           1.3          0.2  Setosa\n",
      "3           4.6          3.1           1.5          0.2  Setosa\n",
      "4           5.0          3.6           1.4          0.2  Setosa\n"
     ]
    }
   ],
   "source": [
    "print(data.head())"
   ]
  },
  {
   "cell_type": "markdown",
   "id": "a82ee493",
   "metadata": {},
   "source": [
    "3.  Compute statistical analysis on the data frame. "
   ]
  },
  {
   "cell_type": "code",
   "execution_count": 9,
   "id": "c6b1aaf5",
   "metadata": {},
   "outputs": [
    {
     "name": "stdout",
     "output_type": "stream",
     "text": [
      "       sepal.length  sepal.width  petal.length  petal.width\n",
      "count    150.000000   150.000000    150.000000   150.000000\n",
      "mean       5.843333     3.057333      3.758000     1.199333\n",
      "std        0.828066     0.435866      1.765298     0.762238\n",
      "min        4.300000     2.000000      1.000000     0.100000\n",
      "25%        5.100000     2.800000      1.600000     0.300000\n",
      "50%        5.800000     3.000000      4.350000     1.300000\n",
      "75%        6.400000     3.300000      5.100000     1.800000\n",
      "max        7.900000     4.400000      6.900000     2.500000\n"
     ]
    }
   ],
   "source": [
    "print(data.describe())"
   ]
  },
  {
   "cell_type": "markdown",
   "id": "b24b1cbe",
   "metadata": {},
   "source": [
    "4.  Display 10 random sample rows."
   ]
  },
  {
   "cell_type": "code",
   "execution_count": 10,
   "id": "000dd01c",
   "metadata": {},
   "outputs": [
    {
     "name": "stdout",
     "output_type": "stream",
     "text": [
      "     sepal.length  sepal.width  petal.length  petal.width     variety\n",
      "111           6.4          2.7           5.3          1.9   Virginica\n",
      "31            5.4          3.4           1.5          0.4      Setosa\n",
      "86            6.7          3.1           4.7          1.5  Versicolor\n",
      "98            5.1          2.5           3.0          1.1  Versicolor\n",
      "1             4.9          3.0           1.4          0.2      Setosa\n",
      "11            4.8          3.4           1.6          0.2      Setosa\n",
      "91            6.1          3.0           4.6          1.4  Versicolor\n",
      "106           4.9          2.5           4.5          1.7   Virginica\n",
      "41            4.5          2.3           1.3          0.3      Setosa\n",
      "141           6.9          3.1           5.1          2.3   Virginica\n"
     ]
    }
   ],
   "source": [
    "print(data.sample(10))"
   ]
  },
  {
   "cell_type": "markdown",
   "id": "32a96961",
   "metadata": {},
   "source": [
    "5.  Display the number of columns and names of the columns."
   ]
  },
  {
   "cell_type": "code",
   "execution_count": 11,
   "id": "1045110f",
   "metadata": {},
   "outputs": [
    {
     "name": "stdout",
     "output_type": "stream",
     "text": [
      "Index(['sepal.length', 'sepal.width', 'petal.length', 'petal.width',\n",
      "       'variety'],\n",
      "      dtype='object')\n",
      "5\n"
     ]
    }
   ],
   "source": [
    "print(data.columns)\n",
    "print(len(data.columns))"
   ]
  },
  {
   "cell_type": "markdown",
   "id": "a59e4157",
   "metadata": {},
   "source": [
    "6.  Print the shape of the dataset"
   ]
  },
  {
   "cell_type": "code",
   "execution_count": 13,
   "id": "01ca8e7f",
   "metadata": {},
   "outputs": [
    {
     "name": "stdout",
     "output_type": "stream",
     "text": [
      "(150, 5)\n"
     ]
    }
   ],
   "source": [
    "print(data.shape) # it will print the no of rows and columns of the data frame"
   ]
  },
  {
   "cell_type": "markdown",
   "id": "069fb503",
   "metadata": {},
   "source": [
    "7.  Fetch data from 5th row to 10th row."
   ]
  },
  {
   "cell_type": "code",
   "execution_count": null,
   "id": "fa112e5f",
   "metadata": {},
   "outputs": [
    {
     "name": "stdout",
     "output_type": "stream",
     "text": [
      "    sepal.length  sepal.width  petal.length  petal.width variety\n",
      "4            5.0          3.6           1.4          0.2  Setosa\n",
      "5            5.4          3.9           1.7          0.4  Setosa\n",
      "6            4.6          3.4           1.4          0.3  Setosa\n",
      "7            5.0          3.4           1.5          0.2  Setosa\n",
      "8            4.4          2.9           1.4          0.2  Setosa\n",
      "9            4.9          3.1           1.5          0.1  Setosa\n",
      "10           5.4          3.7           1.5          0.2  Setosa\n"
     ]
    }
   ],
   "source": [
    "print(data.iloc[4:11])    # iloc function prints from the source index to destination index-1"
   ]
  },
  {
   "cell_type": "code",
   "execution_count": 16,
   "id": "a5b3f967",
   "metadata": {},
   "outputs": [
    {
     "name": "stdout",
     "output_type": "stream",
     "text": [
      "   sepal.length  sepal.width  petal.length  petal.width variety\n",
      "4           5.0          3.6           1.4          0.2  Setosa\n",
      "5           5.4          3.9           1.7          0.4  Setosa\n",
      "6           4.6          3.4           1.4          0.3  Setosa\n",
      "7           5.0          3.4           1.5          0.2  Setosa\n",
      "8           4.4          2.9           1.4          0.2  Setosa\n",
      "9           4.9          3.1           1.5          0.1  Setosa\n"
     ]
    }
   ],
   "source": [
    "print(data.iloc[4:10])"
   ]
  },
  {
   "cell_type": "code",
   "execution_count": 15,
   "id": "9e24bbd8",
   "metadata": {},
   "outputs": [
    {
     "name": "stdout",
     "output_type": "stream",
     "text": [
      "    sepal.length  sepal.width  petal.length  petal.width variety\n",
      "4            5.0          3.6           1.4          0.2  Setosa\n",
      "5            5.4          3.9           1.7          0.4  Setosa\n",
      "6            4.6          3.4           1.4          0.3  Setosa\n",
      "7            5.0          3.4           1.5          0.2  Setosa\n",
      "8            4.4          2.9           1.4          0.2  Setosa\n",
      "9            4.9          3.1           1.5          0.1  Setosa\n",
      "10           5.4          3.7           1.5          0.2  Setosa\n"
     ]
    }
   ],
   "source": [
    "print(data.loc[4:10])"
   ]
  },
  {
   "cell_type": "markdown",
   "id": "fa890165",
   "metadata": {},
   "source": [
    "8.  Display data for two columns: petal. length and petal. width"
   ]
  },
  {
   "cell_type": "code",
   "execution_count": 17,
   "id": "069fa298",
   "metadata": {},
   "outputs": [
    {
     "name": "stdout",
     "output_type": "stream",
     "text": [
      "     petal.length  petal.width\n",
      "0             1.4          0.2\n",
      "1             1.4          0.2\n",
      "2             1.3          0.2\n",
      "3             1.5          0.2\n",
      "4             1.4          0.2\n",
      "..            ...          ...\n",
      "145           5.2          2.3\n",
      "146           5.0          1.9\n",
      "147           5.2          2.0\n",
      "148           5.4          2.3\n",
      "149           5.1          1.8\n",
      "\n",
      "[150 rows x 2 columns]\n"
     ]
    }
   ],
   "source": [
    "print(data[['petal.length','petal.width']])"
   ]
  },
  {
   "cell_type": "markdown",
   "id": "b3848f5e",
   "metadata": {},
   "source": [
    "9.  Counting the number of counts of each variety. "
   ]
  },
  {
   "cell_type": "code",
   "execution_count": null,
   "id": "c2b4473f",
   "metadata": {},
   "outputs": [
    {
     "name": "stdout",
     "output_type": "stream",
     "text": [
      "variety\n",
      "Setosa        50\n",
      "Versicolor    50\n",
      "Virginica     50\n",
      "Name: count, dtype: int64\n"
     ]
    }
   ],
   "source": [
    "print(data['variety'].value_counts())"
   ]
  },
  {
   "cell_type": "markdown",
   "id": "86504c66",
   "metadata": {},
   "source": [
    "10.  Display only those rows whose variety is Setosa."
   ]
  },
  {
   "cell_type": "code",
   "execution_count": 27,
   "id": "cda3ed81",
   "metadata": {},
   "outputs": [
    {
     "name": "stdout",
     "output_type": "stream",
     "text": [
      "    sepal.length  sepal.width  petal.length  petal.width variety\n",
      "0            5.1          3.5           1.4          0.2  Setosa\n",
      "1            4.9          3.0           1.4          0.2  Setosa\n",
      "2            4.7          3.2           1.3          0.2  Setosa\n",
      "3            4.6          3.1           1.5          0.2  Setosa\n",
      "4            5.0          3.6           1.4          0.2  Setosa\n",
      "5            5.4          3.9           1.7          0.4  Setosa\n",
      "6            4.6          3.4           1.4          0.3  Setosa\n",
      "7            5.0          3.4           1.5          0.2  Setosa\n",
      "8            4.4          2.9           1.4          0.2  Setosa\n",
      "9            4.9          3.1           1.5          0.1  Setosa\n",
      "10           5.4          3.7           1.5          0.2  Setosa\n",
      "11           4.8          3.4           1.6          0.2  Setosa\n",
      "12           4.8          3.0           1.4          0.1  Setosa\n",
      "13           4.3          3.0           1.1          0.1  Setosa\n",
      "14           5.8          4.0           1.2          0.2  Setosa\n",
      "15           5.7          4.4           1.5          0.4  Setosa\n",
      "16           5.4          3.9           1.3          0.4  Setosa\n",
      "17           5.1          3.5           1.4          0.3  Setosa\n",
      "18           5.7          3.8           1.7          0.3  Setosa\n",
      "19           5.1          3.8           1.5          0.3  Setosa\n",
      "20           5.4          3.4           1.7          0.2  Setosa\n",
      "21           5.1          3.7           1.5          0.4  Setosa\n",
      "22           4.6          3.6           1.0          0.2  Setosa\n",
      "23           5.1          3.3           1.7          0.5  Setosa\n",
      "24           4.8          3.4           1.9          0.2  Setosa\n",
      "25           5.0          3.0           1.6          0.2  Setosa\n",
      "26           5.0          3.4           1.6          0.4  Setosa\n",
      "27           5.2          3.5           1.5          0.2  Setosa\n",
      "28           5.2          3.4           1.4          0.2  Setosa\n",
      "29           4.7          3.2           1.6          0.2  Setosa\n",
      "30           4.8          3.1           1.6          0.2  Setosa\n",
      "31           5.4          3.4           1.5          0.4  Setosa\n",
      "32           5.2          4.1           1.5          0.1  Setosa\n",
      "33           5.5          4.2           1.4          0.2  Setosa\n",
      "34           4.9          3.1           1.5          0.2  Setosa\n",
      "35           5.0          3.2           1.2          0.2  Setosa\n",
      "36           5.5          3.5           1.3          0.2  Setosa\n",
      "37           4.9          3.6           1.4          0.1  Setosa\n",
      "38           4.4          3.0           1.3          0.2  Setosa\n",
      "39           5.1          3.4           1.5          0.2  Setosa\n",
      "40           5.0          3.5           1.3          0.3  Setosa\n",
      "41           4.5          2.3           1.3          0.3  Setosa\n",
      "42           4.4          3.2           1.3          0.2  Setosa\n",
      "43           5.0          3.5           1.6          0.6  Setosa\n",
      "44           5.1          3.8           1.9          0.4  Setosa\n",
      "45           4.8          3.0           1.4          0.3  Setosa\n",
      "46           5.1          3.8           1.6          0.2  Setosa\n",
      "47           4.6          3.2           1.4          0.2  Setosa\n",
      "48           5.3          3.7           1.5          0.2  Setosa\n",
      "49           5.0          3.3           1.4          0.2  Setosa\n"
     ]
    }
   ],
   "source": [
    "print(data[data['variety'] == 'Setosa'])"
   ]
  },
  {
   "cell_type": "markdown",
   "id": "14def779",
   "metadata": {},
   "source": [
    "11.  Calculate the sum, mean and mode of a particular column (say petal. length)"
   ]
  },
  {
   "cell_type": "code",
   "execution_count": 31,
   "id": "828f73c3",
   "metadata": {},
   "outputs": [
    {
     "name": "stdout",
     "output_type": "stream",
     "text": [
      "Sum = 563.7\n",
      "Mean = 3.7580000000000005\n",
      "Mode = 0    1.4\n",
      "1    1.5\n",
      "Name: petal.length, dtype: float64\n"
     ]
    }
   ],
   "source": [
    "print(\"Sum =\",data['petal.length'].sum())\n",
    "print(\"Mean =\",data['petal.length'].mean())\n",
    "print(\"Mode =\",data['petal.length'].mode())"
   ]
  },
  {
   "cell_type": "markdown",
   "id": "d91bbede",
   "metadata": {},
   "source": [
    "12.  Extract minimum and maximum value from a column (say petal. length)."
   ]
  },
  {
   "cell_type": "code",
   "execution_count": 32,
   "id": "92fbcc4e",
   "metadata": {},
   "outputs": [
    {
     "name": "stdout",
     "output_type": "stream",
     "text": [
      "Min = 1.0\n",
      "Max = 6.9\n"
     ]
    }
   ],
   "source": [
    "print(\"Min =\",data['petal.length'].min())\n",
    "print(\"Max =\",data['petal.length'].max())"
   ]
  },
  {
   "cell_type": "markdown",
   "id": "eb63e81e",
   "metadata": {},
   "source": [
    "13.  Add a column (say total_value) to the dataset which will display the sum of the integer values \n",
    "of each row"
   ]
  },
  {
   "cell_type": "code",
   "execution_count": null,
   "id": "50442299",
   "metadata": {},
   "outputs": [
    {
     "name": "stdout",
     "output_type": "stream",
     "text": [
      "   sepal.length  sepal.width  petal.length  petal.width variety  total_values  \\\n",
      "0           5.1          3.5           1.4          0.2  Setosa          10.2   \n",
      "1           4.9          3.0           1.4          0.2  Setosa           9.5   \n",
      "2           4.7          3.2           1.3          0.2  Setosa           9.4   \n",
      "3           4.6          3.1           1.5          0.2  Setosa           9.4   \n",
      "4           5.0          3.6           1.4          0.2  Setosa          10.2   \n",
      "\n",
      "   total_value  \n",
      "0         10.2  \n",
      "1          9.5  \n",
      "2          9.4  \n",
      "3          9.4  \n",
      "4         10.2  \n"
     ]
    }
   ],
   "source": [
    "data['total_value'] = data[['sepal.length','sepal.width','petal.length','petal.width']].sum(axis=1)\n",
    "# axis = 1 is used for rowwise additionn \n",
    "# axis = 0 is used for column wise addition\n",
    "print(data.head())"
   ]
  },
  {
   "cell_type": "markdown",
   "id": "2007ee60",
   "metadata": {},
   "source": [
    "14.  Rename the column name from variety to variety1 and reverse"
   ]
  },
  {
   "cell_type": "code",
   "execution_count": 44,
   "id": "3a7b4bbd",
   "metadata": {},
   "outputs": [
    {
     "name": "stdout",
     "output_type": "stream",
     "text": [
      "   sepal.length  sepal.width  petal.length  petal.width variety1  \\\n",
      "0           5.1          3.5           1.4          0.2   Setosa   \n",
      "1           4.9          3.0           1.4          0.2   Setosa   \n",
      "2           4.7          3.2           1.3          0.2   Setosa   \n",
      "3           4.6          3.1           1.5          0.2   Setosa   \n",
      "4           5.0          3.6           1.4          0.2   Setosa   \n",
      "\n",
      "   total_values  total_value  \n",
      "0          10.2         10.2  \n",
      "1           9.5          9.5  \n",
      "2           9.4          9.4  \n",
      "3           9.4          9.4  \n",
      "4          10.2         10.2  \n"
     ]
    }
   ],
   "source": [
    "data.rename(columns={'variety':'variety1'},inplace = True)\n",
    "print(data.head())"
   ]
  },
  {
   "cell_type": "code",
   "execution_count": 46,
   "id": "7dc50f6a",
   "metadata": {},
   "outputs": [
    {
     "name": "stdout",
     "output_type": "stream",
     "text": [
      "     sepal.length  sepal.width  petal.length  petal.width    variety  \\\n",
      "0             5.1          3.5           1.4          0.2     Setosa   \n",
      "1             4.9          3.0           1.4          0.2     Setosa   \n",
      "2             4.7          3.2           1.3          0.2     Setosa   \n",
      "3             4.6          3.1           1.5          0.2     Setosa   \n",
      "4             5.0          3.6           1.4          0.2     Setosa   \n",
      "..            ...          ...           ...          ...        ...   \n",
      "145           6.7          3.0           5.2          2.3  Virginica   \n",
      "146           6.3          2.5           5.0          1.9  Virginica   \n",
      "147           6.5          3.0           5.2          2.0  Virginica   \n",
      "148           6.2          3.4           5.4          2.3  Virginica   \n",
      "149           5.9          3.0           5.1          1.8  Virginica   \n",
      "\n",
      "     total_values  total_value  \n",
      "0            10.2         10.2  \n",
      "1             9.5          9.5  \n",
      "2             9.4          9.4  \n",
      "3             9.4          9.4  \n",
      "4            10.2         10.2  \n",
      "..            ...          ...  \n",
      "145          17.2         17.2  \n",
      "146          15.7         15.7  \n",
      "147          16.7         16.7  \n",
      "148          17.3         17.3  \n",
      "149          15.8         15.8  \n",
      "\n",
      "[150 rows x 7 columns]\n"
     ]
    }
   ],
   "source": [
    "data.rename(columns = {'variety1':'variety'},inplace = True)\n",
    "print(data)"
   ]
  },
  {
   "cell_type": "markdown",
   "id": "f2948c3e",
   "metadata": {},
   "source": [
    "15.  Remove the column 'total_value'. "
   ]
  },
  {
   "cell_type": "code",
   "execution_count": 61,
   "id": "e7da0006",
   "metadata": {},
   "outputs": [
    {
     "name": "stdout",
     "output_type": "stream",
     "text": [
      "     sepal.length  sepal.width  petal.length  petal.width    variety\n",
      "0             5.1          3.5           1.4          0.2     Setosa\n",
      "1             4.9          3.0           1.4          0.2     Setosa\n",
      "2             4.7          3.2           1.3          0.2     Setosa\n",
      "3             4.6          3.1           1.5          0.2     Setosa\n",
      "4             5.0          3.6           1.4          0.2     Setosa\n",
      "..            ...          ...           ...          ...        ...\n",
      "145           6.7          3.0           5.2          2.3  Virginica\n",
      "146           6.3          2.5           5.0          1.9  Virginica\n",
      "147           6.5          3.0           5.2          2.0  Virginica\n",
      "148           6.2          3.4           5.4          2.3  Virginica\n",
      "149           5.9          3.0           5.1          1.8  Virginica\n",
      "\n",
      "[150 rows x 5 columns]\n"
     ]
    }
   ],
   "source": [
    "data.drop(columns = 'total_values',axis = 1,inplace = True)\n",
    "print(data)"
   ]
  },
  {
   "cell_type": "markdown",
   "id": "bf7cc759",
   "metadata": {},
   "source": [
    "16.  Delete the first row of the data frame. "
   ]
  },
  {
   "cell_type": "code",
   "execution_count": 62,
   "id": "9fa8dd6f",
   "metadata": {},
   "outputs": [
    {
     "name": "stdout",
     "output_type": "stream",
     "text": [
      "     sepal.length  sepal.width  petal.length  petal.width    variety\n",
      "1             4.9          3.0           1.4          0.2     Setosa\n",
      "2             4.7          3.2           1.3          0.2     Setosa\n",
      "3             4.6          3.1           1.5          0.2     Setosa\n",
      "4             5.0          3.6           1.4          0.2     Setosa\n",
      "5             5.4          3.9           1.7          0.4     Setosa\n",
      "..            ...          ...           ...          ...        ...\n",
      "145           6.7          3.0           5.2          2.3  Virginica\n",
      "146           6.3          2.5           5.0          1.9  Virginica\n",
      "147           6.5          3.0           5.2          2.0  Virginica\n",
      "148           6.2          3.4           5.4          2.3  Virginica\n",
      "149           5.9          3.0           5.1          1.8  Virginica\n",
      "\n",
      "[149 rows x 5 columns]\n"
     ]
    }
   ],
   "source": [
    "print(data[1:])"
   ]
  },
  {
   "cell_type": "code",
   "execution_count": 63,
   "id": "6aaea536",
   "metadata": {},
   "outputs": [
    {
     "name": "stdout",
     "output_type": "stream",
     "text": [
      "     sepal.length  sepal.width  petal.length  petal.width    variety\n",
      "1             4.9          3.0           1.4          0.2     Setosa\n",
      "2             4.7          3.2           1.3          0.2     Setosa\n",
      "3             4.6          3.1           1.5          0.2     Setosa\n",
      "4             5.0          3.6           1.4          0.2     Setosa\n",
      "5             5.4          3.9           1.7          0.4     Setosa\n",
      "..            ...          ...           ...          ...        ...\n",
      "145           6.7          3.0           5.2          2.3  Virginica\n",
      "146           6.3          2.5           5.0          1.9  Virginica\n",
      "147           6.5          3.0           5.2          2.0  Virginica\n",
      "148           6.2          3.4           5.4          2.3  Virginica\n",
      "149           5.9          3.0           5.1          1.8  Virginica\n",
      "\n",
      "[149 rows x 5 columns]\n"
     ]
    }
   ],
   "source": [
    "data.drop(index = data.index[0],inplace = True)\n",
    "print(data)"
   ]
  },
  {
   "cell_type": "markdown",
   "id": "44391738",
   "metadata": {},
   "source": [
    "17.  Delete the last row of the data frame."
   ]
  },
  {
   "cell_type": "code",
   "execution_count": 64,
   "id": "6fd99311",
   "metadata": {},
   "outputs": [
    {
     "name": "stdout",
     "output_type": "stream",
     "text": [
      "     sepal.length  sepal.width  petal.length  petal.width    variety\n",
      "1             4.9          3.0           1.4          0.2     Setosa\n",
      "2             4.7          3.2           1.3          0.2     Setosa\n",
      "3             4.6          3.1           1.5          0.2     Setosa\n",
      "4             5.0          3.6           1.4          0.2     Setosa\n",
      "5             5.4          3.9           1.7          0.4     Setosa\n",
      "..            ...          ...           ...          ...        ...\n",
      "144           6.7          3.3           5.7          2.5  Virginica\n",
      "145           6.7          3.0           5.2          2.3  Virginica\n",
      "146           6.3          2.5           5.0          1.9  Virginica\n",
      "147           6.5          3.0           5.2          2.0  Virginica\n",
      "148           6.2          3.4           5.4          2.3  Virginica\n",
      "\n",
      "[148 rows x 5 columns]\n"
     ]
    }
   ],
   "source": [
    "data.drop(index = data.index[-1],inplace = True)\n",
    "print(data)"
   ]
  },
  {
   "cell_type": "markdown",
   "id": "39315e59",
   "metadata": {},
   "source": [
    "18.  Check if a value exists in data frame or not"
   ]
  },
  {
   "cell_type": "code",
   "execution_count": 70,
   "id": "8de5ec52",
   "metadata": {},
   "outputs": [
    {
     "name": "stdout",
     "output_type": "stream",
     "text": [
      "True\n"
     ]
    }
   ],
   "source": [
    "if 3 in data.values:\n",
    "    print(True)"
   ]
  },
  {
   "cell_type": "markdown",
   "id": "9fb7d415",
   "metadata": {},
   "source": [
    "19.  Check if a value exists in a particular column or not."
   ]
  },
  {
   "cell_type": "code",
   "execution_count": 69,
   "id": "1bb12d1c",
   "metadata": {},
   "outputs": [
    {
     "name": "stdout",
     "output_type": "stream",
     "text": [
      "True\n"
     ]
    }
   ],
   "source": [
    "if 3 in data['sepal.width'].values:\n",
    "    print(True)\n",
    "else:\n",
    "    print(False)"
   ]
  },
  {
   "cell_type": "markdown",
   "id": "f8fce1b0",
   "metadata": {},
   "source": [
    "20.  Write the data frame to another csv file. "
   ]
  },
  {
   "cell_type": "code",
   "execution_count": 71,
   "id": "219a6149",
   "metadata": {},
   "outputs": [],
   "source": [
    "data.to_csv(\"iris_modified.csv\")"
   ]
  }
 ],
 "metadata": {
  "kernelspec": {
   "display_name": "Python 3",
   "language": "python",
   "name": "python3"
  },
  "language_info": {
   "codemirror_mode": {
    "name": "ipython",
    "version": 3
   },
   "file_extension": ".py",
   "mimetype": "text/x-python",
   "name": "python",
   "nbconvert_exporter": "python",
   "pygments_lexer": "ipython3",
   "version": "3.12.5"
  }
 },
 "nbformat": 4,
 "nbformat_minor": 5
}
